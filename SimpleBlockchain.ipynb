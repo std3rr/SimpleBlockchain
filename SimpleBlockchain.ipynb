{
 "cells": [
  {
   "cell_type": "markdown",
   "metadata": {},
   "source": [
    "## Import Dependencies"
   ]
  },
  {
   "cell_type": "code",
   "execution_count": 1,
   "metadata": {},
   "outputs": [],
   "source": [
    "import datetime\n",
    "import hashlib"
   ]
  },
  {
   "cell_type": "markdown",
   "metadata": {},
   "source": [
    "## Create a Block"
   ]
  },
  {
   "cell_type": "code",
   "execution_count": 2,
   "metadata": {},
   "outputs": [],
   "source": [
    "#define the 'block' data structure\n",
    "class Block:\n",
    "    # in this case, each block has 7 attr\n",
    "    \n",
    "    block_no = 0\n",
    "    data = None\n",
    "    next = None\n",
    "    hash = None\n",
    "    nounce = 0\n",
    "    prev_hash = 0x0\n",
    "    timestamp = datetime.datetime.now()\n",
    "    \n",
    "    def __init__(self, data):\n",
    "        self.data = data\n",
    "        \n",
    "    def hash(self):\n",
    "        h = hashlib.sha256()\n",
    "        h.update(\n",
    "            str(self.nounce).encode('utf-8') +\n",
    "            str(self.data).encode('utf-8') +\n",
    "            str(self.prev_hash).encode('utf-8') +\n",
    "            str(self.timestamp).encode('utf-8') +\n",
    "            str(self.block_no).encode('utf-8')\n",
    "        )\n",
    "        return h.hexdigest()\n",
    "    \n",
    "    def __str__(self):\n",
    "        return \"Block Hash: \" + str(self.hash()) + \"\\n Prev Hash: \"+ str(self.prev_hash) +\"\\nBlockNo: \"  + str(self.block_no) + \"\\nBlock Data: \" + str(self.data) + \"\\nHashes: \" + str(self.nounce) + \"\\n----------------\""
   ]
  },
  {
   "cell_type": "markdown",
   "metadata": {},
   "source": [
    "## Create a Blockchain"
   ]
  },
  {
   "cell_type": "code",
   "execution_count": 3,
   "metadata": {},
   "outputs": [],
   "source": [
    "class Blockchain:\n",
    "    \n",
    "    # sets the difficulty by shrinking the accepted target\n",
    "    diff = 20\n",
    "    max_nounce = 2**32 # 32bit max\n",
    "    target = 2 ** (256-diff) # target hash, for mining\n",
    "    \n",
    "    # generate the 'genesis' (first) block\n",
    "    block = Block(\"Genesis\")\n",
    "    dummy = head = block\n",
    "    \n",
    "    def add(self, block):\n",
    "        # set the hash of current block to prev\n",
    "        block.prev_hash = self.block.hash()\n",
    "        block.block_no = self.block.block_no +1\n",
    "        \n",
    "        self.block.next = block\n",
    "        self.block = self.block.next\n",
    "        \n",
    "    def mine(self, block):\n",
    "        #from 0 to 2^32\n",
    "        for n in range(self.max_nounce):\n",
    "            #..is the value less than our target?\n",
    "            \n",
    "            if int(block.hash(), 16) <= self.target:\n",
    "                # ..if it is add to chain\n",
    "                self.add(block)\n",
    "                print(block)\n",
    "                break\n",
    "            else:\n",
    "                block.nounce += 1"
   ]
  },
  {
   "cell_type": "code",
   "execution_count": 4,
   "metadata": {},
   "outputs": [],
   "source": [
    "blockchain = Blockchain()\n",
    "andreas_block = Block(\"Andreas L\")"
   ]
  },
  {
   "cell_type": "code",
   "execution_count": 5,
   "metadata": {},
   "outputs": [
    {
     "name": "stdout",
     "output_type": "stream",
     "text": [
      "Block Hash: 8b82ed4edc09dbea6df26ca96b23dcda2eaf2d58a3c2760db65ff40ef0441f53\n",
      " Prev Hash: 20575689cb5e9b143fecc060a9134e146fe5da378d36ae5024b36964d0beb94e\n",
      "BlockNo: 1\n",
      "Block Data: Andreas L\n",
      "Hashes: 389886\n",
      "----------------\n"
     ]
    }
   ],
   "source": [
    "blockchain.mine(andreas_block)"
   ]
  },
  {
   "cell_type": "code",
   "execution_count": 6,
   "metadata": {},
   "outputs": [
    {
     "name": "stdout",
     "output_type": "stream",
     "text": [
      "Block Hash: 0646d91d55c3fe7526725b694a58958a8106c213ceda452be6147c039b7a6e99\n",
      " Prev Hash: 8b82ed4edc09dbea6df26ca96b23dcda2eaf2d58a3c2760db65ff40ef0441f53\n",
      "BlockNo: 2\n",
      "Block Data: Therese\n",
      "Hashes: 897918\n",
      "----------------\n"
     ]
    }
   ],
   "source": [
    "blockchain.mine(Block(\"Therese\"))"
   ]
  },
  {
   "cell_type": "code",
   "execution_count": 7,
   "metadata": {},
   "outputs": [
    {
     "name": "stdout",
     "output_type": "stream",
     "text": [
      "Block Hash: 20575689cb5e9b143fecc060a9134e146fe5da378d36ae5024b36964d0beb94e\n",
      " Prev Hash: 0\n",
      "BlockNo: 0\n",
      "Block Data: Genesis\n",
      "Hashes: 0\n",
      "----------------\n",
      "Block Hash: 8b82ed4edc09dbea6df26ca96b23dcda2eaf2d58a3c2760db65ff40ef0441f53\n",
      " Prev Hash: 20575689cb5e9b143fecc060a9134e146fe5da378d36ae5024b36964d0beb94e\n",
      "BlockNo: 1\n",
      "Block Data: Andreas L\n",
      "Hashes: 389886\n",
      "----------------\n",
      "Block Hash: 0646d91d55c3fe7526725b694a58958a8106c213ceda452be6147c039b7a6e99\n",
      " Prev Hash: 8b82ed4edc09dbea6df26ca96b23dcda2eaf2d58a3c2760db65ff40ef0441f53\n",
      "BlockNo: 2\n",
      "Block Data: Therese\n",
      "Hashes: 897918\n",
      "----------------\n"
     ]
    }
   ],
   "source": [
    "while blockchain.dummy != None:\n",
    "    print(blockchain.dummy)\n",
    "    blockchain.dummy = blockchain.dummy.next"
   ]
  },
  {
   "cell_type": "markdown",
   "metadata": {},
   "source": [
    "### Ev0l Haxx0r changing middle block data"
   ]
  },
  {
   "cell_type": "code",
   "execution_count": 8,
   "metadata": {},
   "outputs": [
    {
     "name": "stdout",
     "output_type": "stream",
     "text": [
      "Block Hash: 20575689cb5e9b143fecc060a9134e146fe5da378d36ae5024b36964d0beb94e\n",
      " Prev Hash: 0\n",
      "BlockNo: 0\n",
      "Block Data: Genesis\n",
      "Hashes: 0\n",
      "----------------\n",
      "Block Hash: 5c862ac9c68e576883d757bc114841ee5623188bfcf762df63a3e45da3053e13\n",
      " Prev Hash: 20575689cb5e9b143fecc060a9134e146fe5da378d36ae5024b36964d0beb94e\n",
      "BlockNo: 1\n",
      "Block Data: Murkel-olle\n",
      "Hashes: 389886\n",
      "----------------\n",
      "Block Hash: 0646d91d55c3fe7526725b694a58958a8106c213ceda452be6147c039b7a6e99\n",
      " Prev Hash: 8b82ed4edc09dbea6df26ca96b23dcda2eaf2d58a3c2760db65ff40ef0441f53\n",
      "BlockNo: 2\n",
      "Block Data: Therese\n",
      "Hashes: 897918\n",
      "----------------\n"
     ]
    }
   ],
   "source": [
    "blockchain.dummy = blockchain.head\n",
    "while blockchain.dummy != None:\n",
    "    # ev0l haxxor ...\n",
    "    if(blockchain.dummy.data == 'Andreas L'):\n",
    "        blockchain.dummy.data = 'Murkel-olle'\n",
    "    \n",
    "    print(blockchain.dummy)\n",
    "    blockchain.dummy = blockchain.dummy.next"
   ]
  },
  {
   "cell_type": "markdown",
   "metadata": {},
   "source": [
    "### Verify"
   ]
  },
  {
   "cell_type": "code",
   "execution_count": 9,
   "metadata": {},
   "outputs": [
    {
     "name": "stdout",
     "output_type": "stream",
     "text": [
      "Inconsistency at Murkel-olle\n"
     ]
    }
   ],
   "source": [
    "blockchain.dummy = blockchain.head\n",
    "while blockchain.dummy != None:\n",
    "    if blockchain.dummy.next and blockchain.dummy.prev_hash != 0:\n",
    "        if blockchain.dummy.next.prev_hash != blockchain.dummy.hash():\n",
    "            print(\"Inconsistency at \"+blockchain.dummy.data)\n",
    "    blockchain.dummy = blockchain.dummy.next"
   ]
  },
  {
   "cell_type": "markdown",
   "metadata": {},
   "source": [
    "### Restore"
   ]
  },
  {
   "cell_type": "code",
   "execution_count": 10,
   "metadata": {},
   "outputs": [
    {
     "name": "stdout",
     "output_type": "stream",
     "text": [
      "Block Hash: 20575689cb5e9b143fecc060a9134e146fe5da378d36ae5024b36964d0beb94e\n",
      " Prev Hash: 0\n",
      "BlockNo: 0\n",
      "Block Data: Genesis\n",
      "Hashes: 0\n",
      "----------------\n",
      "Block Hash: 8b82ed4edc09dbea6df26ca96b23dcda2eaf2d58a3c2760db65ff40ef0441f53\n",
      " Prev Hash: 20575689cb5e9b143fecc060a9134e146fe5da378d36ae5024b36964d0beb94e\n",
      "BlockNo: 1\n",
      "Block Data: Andreas L\n",
      "Hashes: 389886\n",
      "----------------\n",
      "Block Hash: 0646d91d55c3fe7526725b694a58958a8106c213ceda452be6147c039b7a6e99\n",
      " Prev Hash: 8b82ed4edc09dbea6df26ca96b23dcda2eaf2d58a3c2760db65ff40ef0441f53\n",
      "BlockNo: 2\n",
      "Block Data: Therese\n",
      "Hashes: 897918\n",
      "----------------\n"
     ]
    }
   ],
   "source": [
    "blockchain.dummy = blockchain.head\n",
    "while blockchain.dummy != None:\n",
    "    # restore to original data ...\n",
    "    if(blockchain.dummy.data == 'Murkel-olle'):\n",
    "        blockchain.dummy.data = 'Andreas L'\n",
    "    \n",
    "    print(blockchain.dummy)\n",
    "    blockchain.dummy = blockchain.dummy.next"
   ]
  },
  {
   "cell_type": "markdown",
   "metadata": {},
   "source": [
    "### Verify"
   ]
  },
  {
   "cell_type": "code",
   "execution_count": 11,
   "metadata": {},
   "outputs": [],
   "source": [
    "blockchain.dummy = blockchain.head\n",
    "while blockchain.dummy != None:\n",
    "    if blockchain.dummy.next and blockchain.dummy.prev_hash != 0:\n",
    "        if blockchain.dummy.next.prev_hash != blockchain.dummy.hash():\n",
    "            print(\"Inconsistency at \"+blockchain.dummy.data)\n",
    "    blockchain.dummy = blockchain.dummy.next"
   ]
  },
  {
   "cell_type": "markdown",
   "metadata": {},
   "source": [
    "wheee! "
   ]
  }
 ],
 "metadata": {
  "kernelspec": {
   "display_name": "Python 3",
   "language": "python",
   "name": "python3"
  },
  "language_info": {
   "codemirror_mode": {
    "name": "ipython",
    "version": 3
   },
   "file_extension": ".py",
   "mimetype": "text/x-python",
   "name": "python",
   "nbconvert_exporter": "python",
   "pygments_lexer": "ipython3",
   "version": "3.6.6"
  }
 },
 "nbformat": 4,
 "nbformat_minor": 2
}
